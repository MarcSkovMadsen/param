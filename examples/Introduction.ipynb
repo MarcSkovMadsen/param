{
 "cells": [
  {
   "cell_type": "markdown",
   "id": "bulgarian-fetish",
   "metadata": {},
   "source": [
    "<img src=\"https://raw.githubusercontent.com/holoviz/param/master/doc/_static/logo_horizontal.png\" style=\"display:block;margin-left:auto;margin-right:auto;width:50%;max-width:500px\">"
   ]
  },
  {
   "cell_type": "markdown",
   "id": "professional-memorial",
   "metadata": {},
   "source": [
    "# Introduction\n",
    "\n",
    "**Param is a library providing Parameters**: Python attributes extended to have features such as type and range checking, dynamically generated values, documentation strings, default values, events etc.\n",
    "\n",
    "**Param  is free, open source, small and contains no external dependencies**, so that it can easily be included as part of other projects."
   ]
  },
  {
   "cell_type": "markdown",
   "id": "royal-passport",
   "metadata": {},
   "source": [
    "## Example\n",
    "\n",
    "The [Pythagorean Theorem](https://en.wikipedia.org/wiki/Pythagorean_theorem) is one of the worlds most famous equations.\n",
    "<img src=\"https://miro.medium.com/max/658/1*SsN2DG__Z5DyOI0uf7hbwQ.png\" style=\"display:block;margin-left:auto;margin-right:auto;width:50%;max-width:700px\">\n",
    "\n",
    "**We can use this equation to illustrate how powerful Param is** by building a model of the Pythagoren Theorem."
   ]
  },
  {
   "cell_type": "code",
   "execution_count": null,
   "id": "spiritual-state",
   "metadata": {},
   "outputs": [],
   "source": [
    "import param, math"
   ]
  },
  {
   "cell_type": "code",
   "execution_count": null,
   "id": "bulgarian-highway",
   "metadata": {},
   "outputs": [],
   "source": [
    "class PythagoreanTheorem(param.Parameterized):\n",
    "    \"\"\"Model of the Pythagorean Theorem\"\"\"\n",
    "    a = param.Number(default=0, bounds=(0,None), doc=\"Length of one of the cathetus\")\n",
    "    b = param.Number(default=0, bounds=(0,None), doc=\"Length of one of the cathetus\")\n",
    "    c = param.Number(default=0, bounds=(0,None), doc=\"Length of the hypotenuse. Calculated from the length of the cathetus\", constant=True)\n",
    "    \n",
    "    def __init__(self, **params):\n",
    "        super().__init__(**params) # Sets values a and b if provided in the params\n",
    "        \n",
    "        self._update_hypothenusis() # Sets the value c\n",
    "    \n",
    "    @param.depends(\"a\", \"b\", watch=True) # Triggers a run of the function whenever a or b is changed\n",
    "    def _update_hypothenusis(self):\n",
    "        \"\"\"Updates the length of the hypothenusis\"\"\"\n",
    "        with param.edit_constant(self):\n",
    "            self.c = math.sqrt(self.a**2+self.b**2) "
   ]
  },
  {
   "cell_type": "markdown",
   "id": "equipped-bearing",
   "metadata": {},
   "source": [
    "Lets try to use the model"
   ]
  },
  {
   "cell_type": "code",
   "execution_count": null,
   "id": "cultural-subject",
   "metadata": {},
   "outputs": [],
   "source": [
    "pythagoras = PythagoreanTheorem(a=3, b=4)\n",
    "pythagoras.c"
   ]
  },
  {
   "cell_type": "markdown",
   "id": "outstanding-imaging",
   "metadata": {},
   "source": [
    "We will now take a closer look at what these few lines of code provides us"
   ]
  },
  {
   "cell_type": "markdown",
   "id": "electronic-custody",
   "metadata": {},
   "source": [
    "### Validation"
   ]
  },
  {
   "cell_type": "code",
   "execution_count": null,
   "id": "legitimate-journalist",
   "metadata": {},
   "outputs": [],
   "source": [
    "try:\n",
    "    pythagoras1 = PythagoreanTheorem(a=-1, b=4)\n",
    "except Exception as ex:\n",
    "    print(ex)"
   ]
  },
  {
   "cell_type": "code",
   "execution_count": null,
   "id": "fancy-electronics",
   "metadata": {},
   "outputs": [],
   "source": [
    "try:\n",
    "    pythagoras2 = PythagoreanTheorem(a=\"length is 3\", b=4)\n",
    "except Exception as ex:\n",
    "    print(ex)"
   ]
  },
  {
   "cell_type": "markdown",
   "id": "uniform-developer",
   "metadata": {},
   "source": [
    "Param contains a wide range of useful parameter types. For example `String`, `Integer`, `Float` and `DataFrame`."
   ]
  },
  {
   "cell_type": "markdown",
   "id": "comfortable-party",
   "metadata": {},
   "source": [
    "### Constants"
   ]
  },
  {
   "cell_type": "code",
   "execution_count": null,
   "id": "turned-softball",
   "metadata": {},
   "outputs": [],
   "source": [
    "try:\n",
    "    pythagoras.c=3\n",
    "except Exception as ex:\n",
    "    print(ex)"
   ]
  },
  {
   "cell_type": "markdown",
   "id": "incorporated-flour",
   "metadata": {},
   "source": [
    "### Default Values"
   ]
  },
  {
   "cell_type": "code",
   "execution_count": null,
   "id": "numerical-equality",
   "metadata": {},
   "outputs": [],
   "source": [
    "pythagoras.param.c.default"
   ]
  },
  {
   "cell_type": "markdown",
   "id": "european-theater",
   "metadata": {},
   "source": [
    "### Documentation"
   ]
  },
  {
   "cell_type": "code",
   "execution_count": null,
   "id": "orange-overhead",
   "metadata": {},
   "outputs": [],
   "source": [
    "?pythagoras"
   ]
  },
  {
   "cell_type": "markdown",
   "id": "seasonal-directive",
   "metadata": {},
   "source": [
    "### Events\n",
    "\n",
    "We have already reacted to events when using the `@param.depends(\"a\", \"b\", watch=True)` annotation. \n",
    "\n",
    "Here we will use the alternative `param.watch` to just watch for changes to the hypothenuses and print the event"
   ]
  },
  {
   "cell_type": "code",
   "execution_count": null,
   "id": "fleet-idaho",
   "metadata": {},
   "outputs": [],
   "source": [
    "def print_event(event):\n",
    "    print(event)\n",
    "\n",
    "watcher=pythagoras.param.watch(print_event, \"c\")"
   ]
  },
  {
   "cell_type": "code",
   "execution_count": null,
   "id": "superior-costa",
   "metadata": {},
   "outputs": [],
   "source": [
    "pythagoras.b+=1"
   ]
  },
  {
   "cell_type": "markdown",
   "id": "median-switzerland",
   "metadata": {},
   "source": [
    "Try running the above cell a few times\n",
    "\n",
    "We can also stop watching again"
   ]
  },
  {
   "cell_type": "code",
   "execution_count": null,
   "id": "superior-giving",
   "metadata": {},
   "outputs": [],
   "source": [
    "pythagoras.param.unwatch(watcher)"
   ]
  },
  {
   "cell_type": "markdown",
   "id": "polar-flight",
   "metadata": {},
   "source": [
    "The event contains all the information you would need to handle the event."
   ]
  },
  {
   "cell_type": "markdown",
   "id": "satellite-butterfly",
   "metadata": {},
   "source": [
    "## GUIs\n",
    "\n",
    "On top of param you and others can quickly build interactive applications and graphical user interfaces. The HoloViz Ecosystem is built in this way. \n",
    "\n",
    "[<img src=\"https://holoviz.org/assets/panel.png\" style=\"height:100px;margin-right:1em;margin-left: 1em\">](https://panel.pyviz.org)\n",
    "[<img src=\"https://holoviz.org/assets/hvplot.png\" style=\"height:100px;margin-right:1em;margin-left: 1em\">](https://hvplot.pyviz.org)\n",
    "[<img src=\"https://holoviz.org/assets/holoviews.png\" style=\"height:100px;margin-right:1em;margin-left: 1em\">](https://holoviews.org)\n",
    "[<img src=\"https://holoviz.org/assets/geoviews.png\" style=\"height:100px;margin-right:1em;margin-left: 1em\">](http://geoviews.org)\n",
    "[<img src=\"https://holoviz.org/assets/datashader.png\" style=\"height:100px;margin-right:1em;margin-left: 1em\">](http://datashader.org)\n",
    "[<img src=\"https://holoviz.org/assets/param.png\" style=\"height:100px;margin-right:1em;margin-left: 1em\">](https://param.pyviz.org)\n",
    "[<img src=\"https://holoviz.org/assets/colorcet.png\" style=\"height:100px;margin-right:1em;margin-left: 1em\">](https://colorcet.pyviz.org)\n",
    "\n",
    "Let's use [Panel](https://panel.holoviz.org/) to illustrate the how powerful this is."
   ]
  },
  {
   "cell_type": "code",
   "execution_count": null,
   "id": "forty-mustang",
   "metadata": {},
   "outputs": [],
   "source": [
    "import panel as pn\n",
    "pn.extension()"
   ]
  },
  {
   "cell_type": "code",
   "execution_count": null,
   "id": "fatty-nursery",
   "metadata": {},
   "outputs": [],
   "source": [
    "pn.Param(pythagoras)"
   ]
  },
  {
   "cell_type": "markdown",
   "id": "surprising-samba",
   "metadata": {},
   "source": [
    "## Visit Params Website\n",
    "\n",
    "**Please visit [Param's website](https://github.com/holoviz/param) for more information** like official releases, installation instructions, documentation, and examples.\n",
    "\n",
    "And **join the community** on the [HoloViz Discourse](https://discourse.holoviz.org/)\n",
    "\n",
    "[<img src=\"assets/param-is-powerful.png\" style=\"display:block;margin-left:auto;margin-right:auto;width:80%;max-width:1000px\">](https://discourse.holoviz.org/)"
   ]
  }
 ],
 "metadata": {
  "kernelspec": {
   "display_name": "Python 3",
   "language": "python",
   "name": "python3"
  },
  "language_info": {
   "codemirror_mode": {
    "name": "ipython",
    "version": 3
   },
   "file_extension": ".py",
   "mimetype": "text/x-python",
   "name": "python",
   "nbconvert_exporter": "python",
   "pygments_lexer": "ipython3",
   "version": "3.8.10"
  }
 },
 "nbformat": 4,
 "nbformat_minor": 5
}
